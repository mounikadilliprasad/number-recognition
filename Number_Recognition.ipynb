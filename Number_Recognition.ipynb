{
 "cells": [
  {
   "cell_type": "markdown",
   "metadata": {
    "colab_type": "text",
    "id": "HMjLMX4XbgX0"
   },
   "source": [
    "# Number Recognition with MNIST Dataset"
   ]
  },
  {
   "cell_type": "code",
   "execution_count": 1,
   "metadata": {
    "colab": {
     "base_uri": "https://localhost:8080/",
     "height": 34
    },
    "colab_type": "code",
    "id": "ZbX5p6cUwZwo",
    "outputId": "10cd53cc-5eb4-4b38-af6c-ba116dd044ea"
   },
   "outputs": [
    {
     "name": "stderr",
     "output_type": "stream",
     "text": [
      "C:\\ProgramData\\Anaconda3\\lib\\site-packages\\scipy\\__init__.py:146: UserWarning: A NumPy version >=1.16.5 and <1.23.0 is required for this version of SciPy (detected version 1.24.3\n",
      "  warnings.warn(f\"A NumPy version >={np_minversion} and <{np_maxversion}\"\n"
     ]
    }
   ],
   "source": [
    "# Importing Libaries\n",
    "import tensorflow as tf\n",
    "import keras \n",
    "from keras.models import Sequential\n",
    "from keras.layers import Dense , Dropout , Flatten\n",
    "from keras.layers import Conv2D , MaxPooling2D\n",
    "from keras import backend as k\n",
    "from keras.models import load_model\n",
    "import numpy as np\n",
    "import matplotlib.pyplot as plt"
   ]
  },
  {
   "cell_type": "code",
   "execution_count": 2,
   "metadata": {
    "colab": {},
    "colab_type": "code",
    "id": "g7lF8ijliOgi"
   },
   "outputs": [],
   "source": [
    "# Load dataset\n",
    "from keras.datasets import mnist"
   ]
  },
  {
   "cell_type": "code",
   "execution_count": 3,
   "metadata": {
    "colab": {
     "base_uri": "https://localhost:8080/",
     "height": 51
    },
    "colab_type": "code",
    "id": "URrT2paDiVmY",
    "outputId": "42882fc6-19ac-4bbd-dd06-ebfc48ddee9a"
   },
   "outputs": [
    {
     "name": "stdout",
     "output_type": "stream",
     "text": [
      "Downloading data from https://storage.googleapis.com/tensorflow/tf-keras-datasets/mnist.npz\n",
      "11490434/11490434 [==============================] - 5s 0us/step\n"
     ]
    }
   ],
   "source": [
    "# Split the dataset\n",
    "(X_train , y_train) , (X_test , y_test)=mnist.load_data()"
   ]
  },
  {
   "cell_type": "code",
   "execution_count": 4,
   "metadata": {
    "colab": {
     "base_uri": "https://localhost:8080/",
     "height": 34
    },
    "colab_type": "code",
    "id": "FlVPmsC5ilYM",
    "outputId": "503e7e03-3c38-4569-890c-a23d81029b22"
   },
   "outputs": [
    {
     "name": "stdout",
     "output_type": "stream",
     "text": [
      "(60000, 28, 28) (60000,)\n"
     ]
    }
   ],
   "source": [
    "# Shape of the dataset\n",
    "print(X_train.shape , y_train.shape)"
   ]
  },
  {
   "cell_type": "code",
   "execution_count": 5,
   "metadata": {
    "colab": {},
    "colab_type": "code",
    "id": "95tTEZgZi20b"
   },
   "outputs": [],
   "source": [
    "# Reshape of the dataset\n",
    "X_train=X_train.reshape(X_train.shape[0],28,28,1)\n",
    "X_test=X_test.reshape(X_test.shape[0],28,28,1)\n",
    "input_shape=(28,28,1)"
   ]
  },
  {
   "cell_type": "code",
   "execution_count": 6,
   "metadata": {
    "colab": {},
    "colab_type": "code",
    "id": "WoaVb3BwksfQ"
   },
   "outputs": [],
   "source": [
    "#Convert class vectors to binary class metrics"
   ]
  },
  {
   "cell_type": "code",
   "execution_count": 7,
   "metadata": {
    "colab": {},
    "colab_type": "code",
    "id": "l-GdiL40jliD"
   },
   "outputs": [],
   "source": [
    "num_classes=10\n",
    "y_train=keras.utils.to_categorical(y_train, num_classes)\n",
    "y_test=keras.utils.to_categorical(y_test,num_classes)"
   ]
  },
  {
   "cell_type": "code",
   "execution_count": 8,
   "metadata": {
    "colab": {},
    "colab_type": "code",
    "id": "G7i4MJyklt-H"
   },
   "outputs": [],
   "source": [
    "X_train = X_train.astype('float32')\n",
    "X_test = X_test.astype('float32')\n",
    "\n",
    "# Normalizing the data\n",
    "X_train=X_train/255\n",
    "X_test=X_test/255"
   ]
  },
  {
   "cell_type": "code",
   "execution_count": 9,
   "metadata": {
    "colab": {
     "base_uri": "https://localhost:8080/",
     "height": 68
    },
    "colab_type": "code",
    "id": "xdnaHsZamEkM",
    "outputId": "8d206a81-6d5e-4be3-b406-f083a0ed2bde"
   },
   "outputs": [
    {
     "name": "stdout",
     "output_type": "stream",
     "text": [
      "X_train.shape (10000, 28, 28, 1)\n",
      "60000 Train Sample\n",
      "10000 Test Sample\n"
     ]
    }
   ],
   "source": [
    "print('X_train.shape', X_test.shape)\n",
    "print(X_train.shape[0],'Train Sample')\n",
    "print(X_test.shape[0],'Test Sample')"
   ]
  },
  {
   "cell_type": "markdown",
   "metadata": {
    "colab": {},
    "colab_type": "code",
    "id": "RUSPOg6DntP3"
   },
   "source": [
    "### Create The Model ###"
   ]
  },
  {
   "cell_type": "code",
   "execution_count": 11,
   "metadata": {
    "colab": {},
    "colab_type": "code",
    "id": "8EaCjQXzoFi_"
   },
   "outputs": [],
   "source": [
    "model=Sequential()\n",
    "model.add(Conv2D(32, kernel_size=(3,3), activation='relu', input_shape=input_shape))\n",
    "model.add(Conv2D(64,(3,3),activation='relu'))\n",
    "model.add(MaxPooling2D(pool_size=(2,2)))\n",
    "model.add(Dropout(0.25))\n",
    "model.add(Flatten())\n",
    "model.add(Dense(256, activation='relu'))\n",
    "model.add(Dropout(0.5))\n",
    "model.add(Dense(num_classes, activation='softmax'))\n"
   ]
  },
  {
   "cell_type": "code",
   "execution_count": 12,
   "metadata": {
    "colab": {},
    "colab_type": "code",
    "id": "Xn-LKjVHqfWx"
   },
   "outputs": [],
   "source": [
    "# Compile model\n",
    "model.compile(loss=keras.losses.categorical_crossentropy,optimizer=keras.optimizers.Adadelta(),metrics=['accuracy'])"
   ]
  },
  {
   "cell_type": "code",
   "execution_count": 13,
   "metadata": {
    "colab": {
     "base_uri": "https://localhost:8080/",
     "height": 391
    },
    "colab_type": "code",
    "id": "T1fQdsZRrQd4",
    "outputId": "dcbd4d96-a86b-4f4b-c5b9-fe0e4c0ed38b"
   },
   "outputs": [
    {
     "name": "stdout",
     "output_type": "stream",
     "text": [
      "Epoch 1/10\n",
      "469/469 [==============================] - 242s 513ms/step - loss: 2.2797 - accuracy: 0.1482 - val_loss: 2.2419 - val_accuracy: 0.2703\n",
      "Epoch 2/10\n",
      "469/469 [==============================] - 246s 524ms/step - loss: 2.2183 - accuracy: 0.2613 - val_loss: 2.1687 - val_accuracy: 0.4465\n",
      "Epoch 3/10\n",
      "469/469 [==============================] - 248s 529ms/step - loss: 2.1417 - accuracy: 0.3740 - val_loss: 2.0698 - val_accuracy: 0.6156\n",
      "Epoch 4/10\n",
      "469/469 [==============================] - 249s 532ms/step - loss: 2.0340 - accuracy: 0.4851 - val_loss: 1.9313 - val_accuracy: 0.7060\n",
      "Epoch 5/10\n",
      "469/469 [==============================] - 260s 555ms/step - loss: 1.8844 - accuracy: 0.5681 - val_loss: 1.7391 - val_accuracy: 0.7545\n",
      "Epoch 6/10\n",
      "469/469 [==============================] - 224s 478ms/step - loss: 1.6865 - accuracy: 0.6263 - val_loss: 1.4954 - val_accuracy: 0.7808\n",
      "Epoch 7/10\n",
      "469/469 [==============================] - 326s 695ms/step - loss: 1.4625 - accuracy: 0.6631 - val_loss: 1.2377 - val_accuracy: 0.8032\n",
      "Epoch 8/10\n",
      "469/469 [==============================] - 241s 514ms/step - loss: 1.2528 - accuracy: 0.6891 - val_loss: 1.0190 - val_accuracy: 0.8149\n",
      "Epoch 9/10\n",
      "469/469 [==============================] - 241s 514ms/step - loss: 1.0861 - accuracy: 0.7105 - val_loss: 0.8575 - val_accuracy: 0.8267\n",
      "Epoch 10/10\n",
      "469/469 [==============================] - 252s 538ms/step - loss: 0.9643 - accuracy: 0.7300 - val_loss: 0.7446 - val_accuracy: 0.8372\n",
      "The Model has Successfully Trained\n"
     ]
    }
   ],
   "source": [
    "# Model training\n",
    "model.fit(X_train,y_train , batch_size=128,epochs=10,verbose=1,validation_data=(X_test,y_test))\n",
    "print(\"The Model has Successfully Trained\")"
   ]
  },
  {
   "cell_type": "code",
   "execution_count": 14,
   "metadata": {
    "colab": {
     "base_uri": "https://localhost:8080/",
     "height": 51
    },
    "colab_type": "code",
    "id": "Fk_V8_matSbx",
    "outputId": "50141192-c5e6-421c-d36f-b6833b4b7886"
   },
   "outputs": [
    {
     "name": "stdout",
     "output_type": "stream",
     "text": [
      "313/313 - 11s - loss: 0.7446 - accuracy: 0.8372 - 11s/epoch - 35ms/step\n",
      "test loss: 0.7445926070213318\n",
      "test accuracy: 0.8371999859809875\n"
     ]
    }
   ],
   "source": [
    "# Model evaluating\n",
    "score=model.evaluate(X_test,y_test ,verbose=2)\n",
    "print('test loss:',score[0])\n",
    "print('test accuracy:',score[1])"
   ]
  },
  {
   "cell_type": "code",
   "execution_count": 15,
   "metadata": {
    "colab": {
     "base_uri": "https://localhost:8080/",
     "height": 35
    },
    "colab_type": "code",
    "id": "WaoBYse4yVT9",
    "outputId": "b60cf5e5-c848-4f74-c330-2e54305e7703"
   },
   "outputs": [
    {
     "name": "stdout",
     "output_type": "stream",
     "text": [
      "INFO:tensorflow:Assets written to: mnist.model\\assets\n"
     ]
    },
    {
     "name": "stderr",
     "output_type": "stream",
     "text": [
      "INFO:tensorflow:Assets written to: mnist.model\\assets\n"
     ]
    },
    {
     "name": "stdout",
     "output_type": "stream",
     "text": [
      "Saving the model as mnist.h5\n"
     ]
    }
   ],
   "source": [
    "# Model Saving\n",
    "model.save('mnist.model')\n",
    "print('Saving the model as mnist.h5')"
   ]
  },
  {
   "cell_type": "code",
   "execution_count": 16,
   "metadata": {
    "colab": {},
    "colab_type": "code",
    "id": "e0DLKPFs0E-I"
   },
   "outputs": [],
   "source": [
    "# Prediction "
   ]
  },
  {
   "cell_type": "code",
   "execution_count": 17,
   "metadata": {
    "colab": {},
    "colab_type": "code",
    "id": "wNh3u-bmaNSv"
   },
   "outputs": [],
   "source": [
    "new_model=load_model('mnist.model')"
   ]
  },
  {
   "cell_type": "code",
   "execution_count": 18,
   "metadata": {
    "colab": {},
    "colab_type": "code",
    "id": "JdxTRcrAbOG1"
   },
   "outputs": [
    {
     "name": "stdout",
     "output_type": "stream",
     "text": [
      "313/313 [==============================] - 12s 38ms/step\n"
     ]
    }
   ],
   "source": [
    "prediction=new_model.predict(X_test)"
   ]
  },
  {
   "cell_type": "code",
   "execution_count": 19,
   "metadata": {
    "colab": {
     "base_uri": "https://localhost:8080/",
     "height": 238
    },
    "colab_type": "code",
    "id": "oax8d9h7b0m0",
    "outputId": "2f387de3-4d9f-4afe-b184-c98528e2def7"
   },
   "outputs": [
    {
     "name": "stdout",
     "output_type": "stream",
     "text": [
      "[[6.2605035e-03 4.3704128e-03 1.0309478e-02 ... 8.6038637e-01\n",
      "  2.3276407e-02 4.5951579e-02]\n",
      " [3.8374279e-02 3.1598840e-02 5.4626691e-01 ... 4.9715093e-04\n",
      "  3.8693238e-02 1.6476972e-03]\n",
      " [8.5822418e-03 6.6571546e-01 6.1313026e-02 ... 2.7682278e-02\n",
      "  5.1178116e-02 3.7128270e-02]\n",
      " ...\n",
      " [3.8846238e-03 2.6136640e-02 1.3314420e-02 ... 1.1582682e-01\n",
      "  1.3873614e-01 3.0010262e-01]\n",
      " [5.2285872e-02 1.0114026e-01 3.1015482e-02 ... 5.5248681e-02\n",
      "  2.8176975e-01 5.1031813e-02]\n",
      " [4.2014446e-02 3.4681798e-04 5.1975861e-02 ... 1.1178463e-04\n",
      "  8.1237184e-04 1.1681094e-03]]\n"
     ]
    }
   ],
   "source": [
    "print(prediction)"
   ]
  },
  {
   "cell_type": "code",
   "execution_count": 20,
   "metadata": {
    "colab": {
     "base_uri": "https://localhost:8080/",
     "height": 34
    },
    "colab_type": "code",
    "id": "H2B2SW8Rb59k",
    "outputId": "cc05af06-6252-4bba-bbc1-4b55819445ae"
   },
   "outputs": [
    {
     "name": "stdout",
     "output_type": "stream",
     "text": [
      "1\n"
     ]
    }
   ],
   "source": [
    "print(np.argmax(prediction[5]))"
   ]
  },
  {
   "cell_type": "code",
   "execution_count": 21,
   "metadata": {
    "colab": {
     "base_uri": "https://localhost:8080/",
     "height": 265
    },
    "colab_type": "code",
    "id": "2oZIhXpOcGAU",
    "outputId": "1ff2d444-2315-4612-fcf7-6647ababe783"
   },
   "outputs": [
    {
     "data": {
      "image/png": "[encoded data removed]",
      "text/plain": [
       "<Figure size 432x288 with 1 Axes>"
      ]
     },
     "metadata": {
      "needs_background": "light"
     },
     "output_type": "display_data"
    }
   ],
   "source": [
    "plt.imshow((tf.squeeze(X_test[5])))\n",
    "plt.show()"
   ]
  },
  {
   "cell_type": "code",
   "execution_count": 22,
   "metadata": {
    "colab": {
     "base_uri": "https://localhost:8080/",
     "height": 119
    },
    "colab_type": "code",
    "id": "d66RiwqjckHt",
    "outputId": "5d300e6c-4a05-4f84-876f-d8e752d5bf6d"
   },
   "outputs": [
    {
     "name": "stdout",
     "output_type": "stream",
     "text": [
      "1/1 [==============================] - 0s 121ms/step\n",
      "[7 2 1 0 4]\n",
      "[[0. 0. 0. 0. 0. 0. 0. 1. 0. 0.]\n",
      " [0. 0. 1. 0. 0. 0. 0. 0. 0. 0.]\n",
      " [0. 1. 0. 0. 0. 0. 0. 0. 0. 0.]\n",
      " [1. 0. 0. 0. 0. 0. 0. 0. 0. 0.]\n",
      " [0. 0. 0. 0. 1. 0. 0. 0. 0. 0.]]\n"
     ]
    }
   ],
   "source": [
    "#predict on the first five images\n",
    "pred=model.predict(X_test[:5])\n",
    "# print our model prediction\n",
    "print(np.argmax(pred ,axis=1))\n",
    "print(y_test[:5])\n"
   ]
  },
  {
   "cell_type": "code",
   "execution_count": 23,
   "metadata": {
    "colab": {
     "base_uri": "https://localhost:8080/",
     "height": 1000
    },
    "colab_type": "code",
    "id": "QNeLlawNfwmE",
    "outputId": "e0c252da-dca5-4ab1-b0af-5c7e1c18dc8e"
   },
   "outputs": [
    {
     "data": {
      "image/png": "[encoded data removed]",
      "text/plain": [
       "<Figure size 432x288 with 1 Axes>"
      ]
     },
     "metadata": {
      "needs_background": "light"
     },
     "output_type": "display_data"
    },
    {
     "data": {
      "image/png": "[encoded data removed]",
      "text/plain": [
       "<Figure size 432x288 with 1 Axes>"
      ]
     },
     "metadata": {
      "needs_background": "light"
     },
     "output_type": "display_data"
    },
    {
     "data": {
      "image/png": "[encoded data removed]",
      "text/plain": [
       "<Figure size 432x288 with 1 Axes>"
      ]
     },
     "metadata": {
      "needs_background": "light"
     },
     "output_type": "display_data"
    },
    {
     "data": {
      "image/png": "[encoded data removed]",
      "text/plain": [
       "<Figure size 432x288 with 1 Axes>"
      ]
     },
     "metadata": {
      "needs_background": "light"
     },
     "output_type": "display_data"
    },
    {
     "data": {
      "image/png": "[encoded data removed]",
      "text/plain": [
       "<Figure size 432x288 with 1 Axes>"
      ]
     },
     "metadata": {
      "needs_background": "light"
     },
     "output_type": "display_data"
    }
   ],
   "source": [
    "for i in range (0,5):\n",
    "  first_img=X_test[i]\n",
    "  first_img=np.array(first_img,dtype='float')\n",
    "  pixels=first_img.reshape((28,28))\n",
    "  plt.imshow(pixels, cmap='gray')\n",
    "  plt.show()"
   ]
  },
  {
   "cell_type": "code",
   "execution_count": null,
   "metadata": {
    "colab": {},
    "colab_type": "code",
    "id": "KENVquR0iPrh"
   },
   "outputs": [],
   "source": []
  }
 ],
 "metadata": {
  "accelerator": "GPU",
  "colab": {
   "name": "MNIST.ipynb",
   "provenance": []
  },
  "kernelspec": {
   "display_name": "Python 3 (ipykernel)",
   "language": "python",
   "name": "python3"
  },
  "language_info": {
   "codemirror_mode": {
    "name": "ipython",
    "version": 3
   },
   "file_extension": ".py",
   "mimetype": "text/x-python",
   "name": "python",
   "nbconvert_exporter": "python",
   "pygments_lexer": "ipython3",
   "version": "3.11.4"
  }
 },
 "nbformat": 4,
 "nbformat_minor": 1
}
